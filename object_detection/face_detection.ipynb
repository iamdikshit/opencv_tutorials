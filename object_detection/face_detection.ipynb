{
 "cells": [
  {
   "cell_type": "markdown",
   "metadata": {},
   "source": [
    "# Face Detection"
   ]
  },
  {
   "cell_type": "code",
   "execution_count": 1,
   "metadata": {},
   "outputs": [],
   "source": [
    "import cv2"
   ]
  },
  {
   "cell_type": "code",
   "execution_count": 2,
   "metadata": {},
   "outputs": [],
   "source": [
    "face_cascade = cv2.CascadeClassifier('data/haarcascade/haarcascade_frontalface_default.xml')"
   ]
  },
  {
   "cell_type": "code",
   "execution_count": 3,
   "metadata": {},
   "outputs": [],
   "source": [
    "def detect_face(img):\n",
    "    face_img = img.copy()\n",
    "    gray = cv2.cvtColor(face_img, cv2.COLOR_BGR2GRAY)\n",
    "    face_reacts = face_cascade.detectMultiScale(gray,scaleFactor = 1.2, minNeighbors = 5)\n",
    "    i = 1\n",
    "    for (x,y,w,h) in face_reacts:\n",
    "        print(\"Number of face\",i)\n",
    "        i = i + 1\n",
    "        cv2.rectangle(face_img,(x,y),(x+w, y+h), (0,255,0),10)\n",
    "    \n",
    "    return face_img"
   ]
  },
  {
   "cell_type": "code",
   "execution_count": 5,
   "metadata": {},
   "outputs": [
    {
     "name": "stdout",
     "output_type": "stream",
     "text": [
      "Number of face 1\n",
      "Number of face 1\n",
      "Number of face 1\n",
      "Number of face 1\n",
      "Number of face 1\n",
      "Number of face 1\n",
      "Number of face 1\n",
      "Number of face 1\n",
      "Number of face 1\n",
      "Number of face 1\n",
      "Number of face 1\n",
      "Number of face 1\n",
      "Number of face 1\n",
      "Number of face 1\n",
      "Number of face 1\n",
      "Number of face 1\n",
      "Number of face 1\n",
      "Number of face 1\n",
      "Number of face 1\n",
      "Number of face 1\n",
      "Number of face 1\n",
      "Number of face 1\n",
      "Number of face 1\n",
      "Number of face 1\n",
      "Number of face 1\n",
      "Number of face 1\n",
      "Number of face 1\n",
      "Number of face 1\n",
      "Number of face 1\n",
      "Number of face 1\n",
      "Number of face 1\n",
      "Number of face 1\n",
      "Number of face 1\n",
      "Number of face 1\n",
      "Number of face 1\n",
      "Number of face 1\n",
      "Number of face 1\n",
      "Number of face 1\n",
      "Number of face 1\n",
      "Number of face 1\n",
      "Number of face 1\n",
      "Number of face 1\n",
      "Number of face 1\n",
      "Number of face 1\n",
      "Number of face 1\n",
      "Number of face 1\n",
      "Number of face 1\n",
      "Number of face 1\n",
      "Number of face 1\n",
      "Number of face 1\n",
      "Number of face 1\n"
     ]
    }
   ],
   "source": [
    "capture = cv2.VideoCapture(0)\n",
    "\n",
    "while True:\n",
    "    ret, frame = capture.read()\n",
    "    frame = detect_face(frame)\n",
    "    cv2.imshow('Face detected',frame)\n",
    "    k = cv2.waitKey(1)\n",
    "    if k == 27:\n",
    "        break\n",
    "\n",
    "capture.release()\n",
    "cv2.destroyAllWindows()"
   ]
  }
 ],
 "metadata": {
  "kernelspec": {
   "display_name": "Python 3",
   "language": "python",
   "name": "python3"
  },
  "language_info": {
   "codemirror_mode": {
    "name": "ipython",
    "version": 3
   },
   "file_extension": ".py",
   "mimetype": "text/x-python",
   "name": "python",
   "nbconvert_exporter": "python",
   "pygments_lexer": "ipython3",
   "version": "3.7.3"
  }
 },
 "nbformat": 4,
 "nbformat_minor": 2
}
